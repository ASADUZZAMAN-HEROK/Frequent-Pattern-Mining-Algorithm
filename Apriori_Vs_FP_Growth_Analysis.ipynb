{
  "nbformat": 4,
  "nbformat_minor": 0,
  "metadata": {
    "colab": {
      "name": "Apriori Vs FP Growth Analysis.ipynb",
      "provenance": [],
      "collapsed_sections": [],
      "authorship_tag": "ABX9TyN8cJ/mznQKBbNK87P7rbzr",
      "include_colab_link": true
    },
    "kernelspec": {
      "name": "python3",
      "display_name": "Python 3"
    },
    "language_info": {
      "name": "python"
    }
  },
  "cells": [
    {
      "cell_type": "markdown",
      "metadata": {
        "id": "view-in-github",
        "colab_type": "text"
      },
      "source": [
        "<a href=\"https://colab.research.google.com/github/ASADUZZAMAN-HEROK/Frequent-Pattern-Mining-Algorithm/blob/main/Apriori_Vs_FP_Growth_Analysis.ipynb\" target=\"_parent\"><img src=\"https://colab.research.google.com/assets/colab-badge.svg\" alt=\"Open In Colab\"/></a>"
      ]
    },
    {
      "cell_type": "markdown",
      "metadata": {
        "id": "10Y4CeqTJhJF"
      },
      "source": [
        "\n",
        "##Task: \n",
        "###Analysis of runtime of Apriori and Frequent Pattern Growth Algorithm \\\n",
        "\\\n",
        "\\\n",
        "Author:\\\n",
        "Asaduzzaman Herok\\\n",
        "ID: 170041034\\\n",
        "Computer Science and Engineering\\\n",
        "Islamic University Technology"
      ]
    },
    {
      "cell_type": "code",
      "metadata": {
        "id": "NoxgYZSHKfwl"
      },
      "source": [
        "!pip install kaggle\n",
        "\n",
        "import os\n",
        "import zipfile\n",
        "import pandas as pd\n",
        "import time\n",
        "\n",
        "from matplotlib import pyplot as plt\n",
        "from itertools import chain, combinations\n",
        "from IPython.display import clear_output\n",
        "clear_output()"
      ],
      "execution_count": 59,
      "outputs": []
    },
    {
      "cell_type": "code",
      "metadata": {
        "colab": {
          "resources": {
            "http://localhost:8080/nbextensions/google.colab/files.js": {
              "data": "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",
              "ok": true,
              "headers": [
                [
                  "content-type",
                  "application/javascript"
                ]
              ],
              "status": 200,
              "status_text": ""
            }
          },
          "base_uri": "https://localhost:8080/",
          "height": 89
        },
        "id": "xg5-uBFbOjHv",
        "outputId": "a9c52e3a-139a-43b4-9948-d86c93a29d63"
      },
      "source": [
        "#Upload Kaggle API token. File name must be kaggle.json\n",
        "from google.colab import files\n",
        "files.upload()"
      ],
      "execution_count": 60,
      "outputs": [
        {
          "output_type": "display_data",
          "data": {
            "text/html": [
              "\n",
              "     <input type=\"file\" id=\"files-ee2d32d5-5f0b-4c12-b939-452f43aa7abe\" name=\"files[]\" multiple disabled\n",
              "        style=\"border:none\" />\n",
              "     <output id=\"result-ee2d32d5-5f0b-4c12-b939-452f43aa7abe\">\n",
              "      Upload widget is only available when the cell has been executed in the\n",
              "      current browser session. Please rerun this cell to enable.\n",
              "      </output>\n",
              "      <script src=\"/nbextensions/google.colab/files.js\"></script> "
            ],
            "text/plain": [
              "<IPython.core.display.HTML object>"
            ]
          },
          "metadata": {
            "tags": []
          }
        },
        {
          "output_type": "stream",
          "text": [
            "Saving kaggle.json to kaggle (1).json\n"
          ],
          "name": "stdout"
        },
        {
          "output_type": "execute_result",
          "data": {
            "text/plain": [
              "{'kaggle.json': b'{\"username\":\"asaduzzamanherok\",\"key\":\"fc4edcbb4c4d097d355301c0b01d3952\"}'}"
            ]
          },
          "metadata": {
            "tags": []
          },
          "execution_count": 60
        }
      ]
    },
    {
      "cell_type": "code",
      "metadata": {
        "colab": {
          "base_uri": "https://localhost:8080/"
        },
        "id": "IZgs_cEwL-4E",
        "outputId": "5cd610ba-848c-4778-ce6f-1e1f808b2778"
      },
      "source": [
        "!mkdir ~/.kaggle\n",
        "!cp kaggle.json ~/.kaggle/\n",
        "!chmod 600 ~/.kaggle/kaggle.json"
      ],
      "execution_count": 61,
      "outputs": [
        {
          "output_type": "stream",
          "text": [
            "mkdir: cannot create directory ‘/root/.kaggle’: File exists\n"
          ],
          "name": "stdout"
        }
      ]
    },
    {
      "cell_type": "code",
      "metadata": {
        "colab": {
          "base_uri": "https://localhost:8080/"
        },
        "id": "kE-gifDrPbcj",
        "outputId": "327fc756-aaa8-4803-ec2a-e3894d57fa8b"
      },
      "source": [
        "#Dataset The Bread Basket\n",
        "!kaggle datasets download -d mittalvasu95/the-bread-basket\n",
        "!unzip /content/the-bread-basket.zip"
      ],
      "execution_count": 62,
      "outputs": [
        {
          "output_type": "stream",
          "text": [
            "the-bread-basket.zip: Skipping, found more recently modified local copy (use --force to force download)\n",
            "Archive:  /content/the-bread-basket.zip\n",
            "replace bread basket.csv? [y]es, [n]o, [A]ll, [N]one, [r]ename: y\n",
            "  inflating: bread basket.csv        \n"
          ],
          "name": "stdout"
        }
      ]
    },
    {
      "cell_type": "code",
      "metadata": {
        "colab": {
          "base_uri": "https://localhost:8080/"
        },
        "id": "JYID8PZHQgkE",
        "outputId": "ffafcbd5-787f-4395-8c9c-3c061ff40621"
      },
      "source": [
        "#Dataset The Bread Basket\n",
        "!kaggle datasets download -d rashikrahmanpritom/groceries-dataset-for-market-basket-analysismba\n",
        "!unzip /content/groceries-dataset-for-market-basket-analysismba.zip"
      ],
      "execution_count": 63,
      "outputs": [
        {
          "output_type": "stream",
          "text": [
            "groceries-dataset-for-market-basket-analysismba.zip: Skipping, found more recently modified local copy (use --force to force download)\n",
            "Archive:  /content/groceries-dataset-for-market-basket-analysismba.zip\n",
            "replace Groceries data.csv? [y]es, [n]o, [A]ll, [N]one, [r]ename: y\n",
            "  inflating: Groceries data.csv      \n",
            "replace basket.csv? [y]es, [n]o, [A]ll, [N]one, [r]ename: y\n",
            "  inflating: basket.csv              \n"
          ],
          "name": "stdout"
        }
      ]
    },
    {
      "cell_type": "code",
      "metadata": {
        "colab": {
          "base_uri": "https://localhost:8080/"
        },
        "id": "fi8iZgovRAOc",
        "outputId": "074d1f0f-5935-41a6-aff5-685761b1bea7"
      },
      "source": [
        "#Data Load\n",
        "bread_basket = pd.DataFrame(pd.read_csv('/content/bread basket.csv'))\n",
        "market_basket = pd.DataFrame(pd.read_csv('/content/basket.csv'))\n",
        "print(bread_basket.head())\n",
        "print(market_basket.head())"
      ],
      "execution_count": 64,
      "outputs": [
        {
          "output_type": "stream",
          "text": [
            "   Transaction           Item         date_time period_day weekday_weekend\n",
            "0            1          Bread  30-10-2016 09:58    morning         weekend\n",
            "1            2   Scandinavian  30-10-2016 10:05    morning         weekend\n",
            "2            2   Scandinavian  30-10-2016 10:05    morning         weekend\n",
            "3            3  Hot chocolate  30-10-2016 10:07    morning         weekend\n",
            "4            3            Jam  30-10-2016 10:07    morning         weekend\n",
            "             0                   1                    2  ...    8    9   10\n",
            "0   whole milk              pastry          salty snack  ...  NaN  NaN  NaN\n",
            "1      sausage          whole milk  semi-finished bread  ...  NaN  NaN  NaN\n",
            "2         soda  pickled vegetables                  NaN  ...  NaN  NaN  NaN\n",
            "3  canned beer     misc. beverages                  NaN  ...  NaN  NaN  NaN\n",
            "4      sausage    hygiene articles                  NaN  ...  NaN  NaN  NaN\n",
            "\n",
            "[5 rows x 11 columns]\n"
          ],
          "name": "stdout"
        }
      ]
    },
    {
      "cell_type": "code",
      "metadata": {
        "id": "4E57S0qXR0-c"
      },
      "source": [
        "#Preprocess Bread Basket\n",
        "bread_basket = bread_basket.fillna(0)\n",
        "market_basket = market_basket.fillna(0)\n",
        "bread_transactions = dict()\n",
        "\n",
        "for idx in bread_basket.index:\n",
        "  if bread_transactions.get(bread_basket['Transaction'][idx])==None:\n",
        "    bread_transactions[bread_basket['Transaction'][idx]]=set()\n",
        "  bread_transactions[bread_basket['Transaction'][idx]].add(bread_basket['Item'][idx])\n",
        "\n",
        "market_transactions = dict()\n",
        "for idx in market_basket.index:\n",
        "  market_transactions[idx]=set()\n",
        "  for col in market_basket.columns:\n",
        "    market_transactions[idx].add(market_basket[col][idx])\n",
        "  market_transactions[idx].discard(0)\n"
      ],
      "execution_count": 65,
      "outputs": []
    },
    {
      "cell_type": "code",
      "metadata": {
        "id": "5N-xvNO1GTot"
      },
      "source": [
        "## all Possible Combination\n",
        "def generate_subsets(iterable):\n",
        "    s = list(iterable)\n",
        "    return list(chain.from_iterable(combinations(s, r) for r in range(1,len(s)+1)))\n"
      ],
      "execution_count": 66,
      "outputs": []
    },
    {
      "cell_type": "code",
      "metadata": {
        "id": "B0J7_FMGe_KO"
      },
      "source": [
        "#################### Frequent Pattern Growth Algorithm ################\n",
        "class Node:\n",
        "  def __init__(self, item):\n",
        "    self.item = item\n",
        "    self.branch = dict()\n",
        "    self.frequency = 0\n",
        "  def addBranch(self, node):\n",
        "    if node == None:\n",
        "      return\n",
        "    self.branch[node.item]=node\n",
        "\n",
        "class FP_Growth:\n",
        "  def __init__(self, transactions: dict, min_sup = 2):\n",
        "    self.transactions = transactions.copy()\n",
        "    self.runTime = 0\n",
        "    self.uniqe_items = set()\n",
        "    self.supportCount = dict()\n",
        "    self.root = Node('NULL')\n",
        "    self.min_sup = min_sup\n",
        "    self.conditionalPatterBase = dict()\n",
        "    self.conditionalFPTree = dict()\n",
        "    self.frequentPatterns = dict()\n",
        "\n",
        "  def __generateSupportCount__(self):\n",
        "    for itemSet in self.transactions.values():\n",
        "      for item in itemSet:\n",
        "        if self.supportCount.get(item)==None:\n",
        "          self.supportCount[item]=0\n",
        "        self.supportCount[item]+=1\n",
        "    self.supportCount = dict(sorted(list(self.supportCount.items()), key = lambda item: (-1*item[1],item)))\n",
        "  \n",
        "\n",
        "  def __sortitemSets__(self):\n",
        "    for key in self.transactions.keys():\n",
        "      itemSet = self.transactions[key]\n",
        "      itemSet = sorted(itemSet, key= lambda item: (-1*self.supportCount[item],item))\n",
        "      self.transactions[key] = itemSet\n",
        "  \n",
        "  def __generateUniqeItemList__(self):\n",
        "    for itemSet in self.transactions.values():\n",
        "      for item in itemSet:\n",
        "        self.uniqe_items.add(item)\n",
        "    self.uniqe_items = set(sorted(self.uniqe_items))\n",
        "\n",
        "  def __addItemSetToTree__(self, nextNode, itemSet):\n",
        "    nextNode.frequency+=1\n",
        "    if len(itemSet)==0:\n",
        "      return nextNode\n",
        "    item = itemSet.pop(0)\n",
        "   # print(item)\n",
        "    if nextNode.branch.get(item)==None:\n",
        "      nextNode.addBranch(self.__addItemSetToTree__(Node(item),itemSet))\n",
        "    else:\n",
        "      nextNode.addBranch(self.__addItemSetToTree__(nextNode.branch[item],itemSet))\n",
        "    #print(\"[Ret]\", nextNode.branch)\n",
        "    return nextNode\n",
        "\n",
        "\n",
        "  def __buildTree__(self):\n",
        "    self.__generateSupportCount__()\n",
        "    self.__sortitemSets__()\n",
        "    for itemSet in self.transactions.values():\n",
        "      self.root = self.__addItemSetToTree__( self.root, itemSet.copy())\n",
        "  \n",
        "\n",
        "  def showTreeTravers(self, node):\n",
        "    if(node == None):\n",
        "      return\n",
        "    print(\"Enter\",node.item,node.frequency)\n",
        "    for next in node.branch.keys():\n",
        "      self.showTreeTravers(node.branch[next])\n",
        "    print(\"exit\", node.item, node.frequency)\n",
        "  \n",
        "  def __generatePattern__(self, path, node):\n",
        "    if node == None:\n",
        "      return\n",
        "    for next in node.branch.keys():\n",
        "      newPath = path.copy()\n",
        "      newPath.append(next)\n",
        "      self.__generatePattern__(newPath.copy(),node.branch[next])\n",
        "    if len(path) > 0:\n",
        "      path.pop()\n",
        "    if self.conditionalPatterBase.get(node.item)==None:\n",
        "      self.conditionalPatterBase[node.item]=[]\n",
        "    self.conditionalPatterBase[node.item].append((tuple(path.copy()),node.frequency))\n",
        "\n",
        "\n",
        "  \n",
        "  def __generateConditionalFPTree__(self):\n",
        "    for item, frqPat in list(self.conditionalPatterBase.items()):\n",
        "      prefix = dict()\n",
        "      occurence = dict()\n",
        "      sortedFrqPat = sorted(list(frqPat))\n",
        "      sortedFrqPat.append(('!!##',0))\n",
        "      #print(item, sortedFrqPat)\n",
        "      for idx in range(len(sortedFrqPat)-1):\n",
        "        pat, frq = sortedFrqPat[idx]\n",
        "        nextPat, nextFrq = sortedFrqPat[idx+1]\n",
        "\n",
        "        for it in pat:\n",
        "          if occurence.get(it)==None:\n",
        "            occurence[it]=0\n",
        "          occurence[it]+=frq\n",
        "        if len(pat) > len(nextPat) or (len(pat) <= len(nextPat) and pat != nextPat[:len(pat)]):\n",
        "          prefix[pat]=occurence.copy()\n",
        "         # print(pat)\n",
        "          occurence = dict()\n",
        "\n",
        "      for x in prefix.values():\n",
        "\n",
        "        if self.conditionalFPTree.get(item)==None:\n",
        "          self.conditionalFPTree[item]=[]\n",
        "        self.conditionalFPTree[item].append(list(x.items()))\n",
        "\n",
        "  def generateFrequentPatterns(self):\n",
        "    self.__init__(self.transactions,self.min_sup)\n",
        "    self.frequentPatterns = dict()\n",
        "    startTime = time.time()\n",
        "    self.__generateUniqeItemList__()\n",
        "    self.__buildTree__()\n",
        "    self.__generatePattern__([],fp.root)\n",
        "    self.__generateConditionalFPTree__()\n",
        "    for item, fpTree in self.conditionalFPTree.items():\n",
        "      \n",
        "      for itemset in fpTree:\n",
        "        allSubSet = generate_subsets(itemset)\n",
        "        \n",
        "        for subset in allSubSet:\n",
        "          frqSet = []\n",
        "          mnFrq = 1e18\n",
        "          for it,frq in subset:\n",
        "            mnFrq = min(mnFrq,frq)\n",
        "            frqSet.append(it)\n",
        "          frqSet.append(item)\n",
        "          frqSet = sorted(frqSet)\n",
        "          \n",
        "          if self.frequentPatterns.get(tuple(frqSet))==None:\n",
        "            self.frequentPatterns[tuple(frqSet)]=0\n",
        "          self.frequentPatterns[tuple(frqSet)]+=mnFrq\n",
        "    fqPat = list(self.frequentPatterns.keys())\n",
        "    for pat in fqPat:\n",
        "      if self.frequentPatterns[pat]<self.min_sup:\n",
        "        del self.frequentPatterns[pat]\n",
        "    \n",
        "    patternSet = set()\n",
        "    for item in self.frequentPatterns.items():\n",
        "      patternSet.add(item)\n",
        "    self.frequentPatterns = sorted(patternSet)\n",
        "    self.runTime+=time.time()-startTime"
      ],
      "execution_count": 67,
      "outputs": []
    },
    {
      "cell_type": "code",
      "metadata": {
        "id": "oCICKTdVNAeE"
      },
      "source": [
        "#########################  Apriori Algorithm #################\n",
        "\n",
        "class Apriori:\n",
        "  def __init__(self, transactions: dict, min_sup = 2):\n",
        "    self.transactions = transactions.copy()\n",
        "    self.runTime = 0\n",
        "    self.min_sup = min_sup\n",
        "    self.levels = []\n",
        "    self.uniqe_items = set()\n",
        "    self.frequentPatterns = set()\n",
        "    self.__generateUniqeItemList__()\n",
        "  \n",
        "  def __generateSupportCount__(self, candidates: set):\n",
        "    newDict=dict()\n",
        "    for itemSet in self.transactions.values():\n",
        "      for candidate in candidates:\n",
        "        isFound = True\n",
        "        for item in candidate:\n",
        "          isFound = isFound and item in itemSet \n",
        "        if isFound == True:\n",
        "          if newDict.get(candidate) == None:\n",
        "            newDict[candidate]=0\n",
        "          newDict[candidate]+=1\n",
        "    self.levels.append(newDict)\n",
        "\n",
        "  def __pruningByMinSupCount__(self, lvl: int):\n",
        "    itemSets = list(self.levels[lvl].keys())\n",
        "    for itemSet in itemSets:\n",
        "      if self.levels[lvl][itemSet] < self.min_sup:\n",
        "        del self.levels[lvl][itemSet]\n",
        "  \n",
        "  def __generateUniqeItemList__(self):\n",
        "    for itemSet in self.transactions.values():\n",
        "      for item in itemSet:\n",
        "        self.uniqe_items.add(item)\n",
        "    self.uniqe_items = set(sorted(self.uniqe_items))\n",
        "  \n",
        "  def __cross__(self, lvl:int):\n",
        "    candidateList = set()\n",
        "    for itemSet in self.levels[lvl].keys():\n",
        "      for itemSet2 in self.levels[lvl].keys():\n",
        "        tempSet = set([x for x in itemSet])\n",
        "        tempSet.update([x for x in itemSet2])\n",
        "        tempSet = sorted(tempSet)\n",
        "        if len(tempSet) == len(itemSet)+1:\n",
        "          candidateList.add(tuple(tempSet))\n",
        "    return candidateList.copy()\n",
        "  \n",
        "  def __buildLevels__(self):\n",
        "    startTime = time.time()\n",
        "    candidateList = set((x,) for x in self.uniqe_items)\n",
        "    self.__generateSupportCount__(candidateList.copy())\n",
        "    self.__pruningByMinSupCount__(0)\n",
        "\n",
        "    while len(self.levels[-1]) > 0:\n",
        "      candidateList = self.__cross__(len(self.levels)-1)\n",
        "      self.__generateSupportCount__(candidateList.copy())\n",
        "      self.__pruningByMinSupCount__(len(self.levels)-1)\n",
        "\n",
        "    self.runTime+=time.time()-startTime\n",
        "  \n",
        "  def generateFrequentPatterns(self):\n",
        "    self.__init__(self.transactions,self.min_sup)\n",
        "    self.__buildLevels__()\n",
        "    for d in self.levels[1:]:\n",
        "      for item in d.items():\n",
        "        self.frequentPatterns.add((item[0],item[1]))\n",
        "    self.frequentPatterns = sorted(self.frequentPatterns)\n",
        "  \n"
      ],
      "execution_count": 68,
      "outputs": []
    },
    {
      "cell_type": "code",
      "metadata": {
        "colab": {
          "base_uri": "https://localhost:8080/"
        },
        "id": "qe9HCYqgnAXC",
        "outputId": "dfc8538d-c17d-4e34-cadc-a98bd2882543"
      },
      "source": [
        "#################### Test Set ####################\n",
        "test_transactions =dict( [(1,{'I1','I2','I5'}),\\\n",
        "                     (2,{'I2','I4'}),\\\n",
        "                     (3,{'I2','I3'}),\\\n",
        "                     (4,{'I1','I2','I4'}),\\\n",
        "                     (5,{'I1','I3'}),\\\n",
        "                     (6,{'I2','I3'}),\\\n",
        "                     (7,{'I1','I3'}),\\\n",
        "                     (8,{'I2','I1','I3','I5'}),\\\n",
        "                     (9,{'I1','I2','I3'})])\n",
        "\n",
        "test_transactions_2 = dict([(1, {'A','B'}),\\\n",
        "                            (2, {'B','C','D'}),\\\n",
        "                            (3, {'A','C','D','E'}),\\\n",
        "                            (4, {'A','D','E'}),\\\n",
        "                            (5, {'A','B','C'}),\\\n",
        "                            (6, {'A','B','C','D'}),\\\n",
        "                            (7, {'A'}),\\\n",
        "                            (8, {'A','B','C'}),\\\n",
        "                            (9, {'A','B','D'}),\\\n",
        "                            (10, {'B','C','E'})])\n",
        "\n",
        "\n",
        "ap = Apriori(test_transactions, min_sup=2)\n",
        "fp = FP_Growth(test_transactions,min_sup=2)\n",
        "\n",
        "fp.generateFrequentPatterns()\n",
        "print(fp.supportCount)\n",
        "print(fp.conditionalPatterBase)\n",
        "print(fp.conditionalFPTree)\n",
        "fp.showTreeTravers(fp.root)\n",
        "ap.generateFrequentPatterns()\n",
        "\n",
        "\n",
        "# print(\"Items in Apriori  : \", ap.uniqe_items)\n",
        "# print(\"Items in FP_Growth: \", fp.uniqe_items)\n",
        "\n",
        "# print(\"Runtime in Apriori  :\", ap.runTime)\n",
        "# print(\"Runtime in FP_Growth:\", fp.runTime)\n",
        "\n",
        "print(\"Frequent Patterns by Apriori:\")\n",
        "for pat in ap.frequentPatterns:\n",
        "  print(pat)\n",
        "\n",
        "print(\"Frequent Patterns by FP_Growth:\")\n",
        "for pat in fp.frequentPatterns:\n",
        "  print(pat)"
      ],
      "execution_count": 69,
      "outputs": [
        {
          "output_type": "stream",
          "text": [
            "{'I2': 7, 'I1': 6, 'I3': 6, 'I4': 2, 'I5': 2}\n",
            "{'I5': [(('I2', 'I1'), 1), (('I2', 'I1', 'I3'), 1)], 'I4': [(('I2', 'I1'), 1), (('I2',), 1)], 'I3': [(('I2', 'I1'), 2), (('I2',), 2), (('I1',), 2)], 'I1': [(('I2',), 4), ((), 2)], 'I2': [((), 7)], 'NULL': [((), 9)]}\n",
            "{'I5': [[('I2', 2), ('I1', 2), ('I3', 1)]], 'I4': [[('I2', 2), ('I1', 1)]], 'I3': [[('I1', 2)], [('I2', 4), ('I1', 2)]], 'I1': [[('I2', 4)]], 'I2': [[]], 'NULL': [[]]}\n",
            "Enter NULL 9\n",
            "Enter I2 7\n",
            "Enter I1 4\n",
            "Enter I5 1\n",
            "exit I5 1\n",
            "Enter I4 1\n",
            "exit I4 1\n",
            "Enter I3 2\n",
            "Enter I5 1\n",
            "exit I5 1\n",
            "exit I3 2\n",
            "exit I1 4\n",
            "Enter I4 1\n",
            "exit I4 1\n",
            "Enter I3 2\n",
            "exit I3 2\n",
            "exit I2 7\n",
            "Enter I1 2\n",
            "Enter I3 2\n",
            "exit I3 2\n",
            "exit I1 2\n",
            "exit NULL 9\n",
            "Frequent Patterns by Apriori:\n",
            "(('I1', 'I2'), 4)\n",
            "(('I1', 'I2', 'I3'), 2)\n",
            "(('I1', 'I2', 'I5'), 2)\n",
            "(('I1', 'I3'), 4)\n",
            "(('I1', 'I5'), 2)\n",
            "(('I2', 'I3'), 4)\n",
            "(('I2', 'I4'), 2)\n",
            "(('I2', 'I5'), 2)\n",
            "Frequent Patterns by FP_Growth:\n",
            "(('I1', 'I2'), 4)\n",
            "(('I1', 'I2', 'I3'), 2)\n",
            "(('I1', 'I2', 'I5'), 2)\n",
            "(('I1', 'I3'), 4)\n",
            "(('I1', 'I5'), 2)\n",
            "(('I2', 'I3'), 4)\n",
            "(('I2', 'I4'), 2)\n",
            "(('I2', 'I5'), 2)\n"
          ],
          "name": "stdout"
        }
      ]
    },
    {
      "cell_type": "code",
      "metadata": {
        "colab": {
          "base_uri": "https://localhost:8080/"
        },
        "id": "ZFgOUJl-cdNt",
        "outputId": "bc9a2542-65fc-43ff-f5cb-dad44c82621b"
      },
      "source": [
        "################ Test on Bread_Basket ######################\n",
        "ap = Apriori(bread_transactions, min_sup=50)\n",
        "fp = FP_Growth(bread_transactions,min_sup=50)\n",
        "\n",
        "fp.generateFrequentPatterns()\n",
        "ap.generateFrequentPatterns()\n",
        "\n",
        "print(\"Items in Apriori  : \", ap.uniqe_items)\n",
        "print(\"Items in FP_Growth: \", fp.uniqe_items)\n",
        "\n",
        "print(\"\")\n",
        "\n",
        "print(\"Runtime in Apriori  :\", ap.runTime)\n",
        "print(\"Runtime in FP_Growth:\", fp.runTime)\n",
        "\n",
        "print(\"\")\n",
        "\n",
        "print(\"Are the  generated frequent patterns same: \", ap.frequentPatterns==fp.frequentPatterns)\n",
        "\n",
        "print(\"Frequent Patterns by Apriori:\")\n",
        "for pat in ap.frequentPatterns:\n",
        "  print(pat)\n",
        "\n",
        "print(\"\")\n"
      ],
      "execution_count": 70,
      "outputs": [
        {
          "output_type": "stream",
          "text": [
            "Items in Apriori  :  {'Toast', 'Spanish Brunch', 'Raspberry shortbread sandwich', 'Victorian Sponge', \"Ella's Kitchen Pouches\", 'Scandinavian', 'Tartine', 'Olum & polenta', 'Adjustment', 'Bowl Nic Pitt', 'Muesli', 'Empanadas', 'Bread Pudding', 'Hack the stack', 'Honey', 'Dulce de Leche', 'Brioche and salami', 'Art Tray', 'Pick and Mix Bowls', 'Drinking chocolate spoons ', 'Smoothies', 'Extra Salami or Feta', 'Polenta', 'Crisps', 'Focaccia', 'Alfajores', 'Soup', 'Afternoon with the baker', 'Chicken sand', 'Truffles', 'Panatone', 'Argentina Night', 'Lemon and coconut', 'Crepes', 'Muffin', 'Pintxos', 'Coffee granules ', 'Gingerbread syrup', 'Cherry me Dried fruit', 'Farm House', 'Hearty & Seasonal', 'Tacos/Fajita', 'Medialuna', 'Bacon', 'Coffee', 'Vegan mincepie', 'Brownie', 'Frittata', 'Bakewell', 'Tiffin', 'Duck egg', 'Nomad bag', 'Chicken Stew', 'Mortimer', 'Mineral water', 'Raw bars', \"Valentine's card\", 'Postcard', 'Granola', 'Chocolates', 'Basket', 'Salad', 'The Nomad', 'Baguette', 'Cake', 'Fudge', 'Christmas common', 'Caramel bites', 'Cookies', 'Hot chocolate', 'Bread', 'Bare Popcorn', 'Coke', 'Fairy Doors', 'Chimichurri Oil', 'Keeping It Local', 'Sandwich', 'Juice', 'The BART', 'Pastry', 'My-5 Fruit Shoot', 'Gift voucher', 'Tea', 'Half slice Monster ', 'Jam', 'Tshirt', 'Kids biscuit', 'Scone', 'Jammie Dodgers', 'Spread', 'Eggs', 'Mighty Protein', 'Vegan Feast', 'Siblings'}\n",
            "Items in FP_Growth:  {'Toast', 'Spanish Brunch', 'Raspberry shortbread sandwich', 'Victorian Sponge', \"Ella's Kitchen Pouches\", 'Scandinavian', 'Tartine', 'Olum & polenta', 'Adjustment', 'Bowl Nic Pitt', 'Muesli', 'Empanadas', 'Bread Pudding', 'Hack the stack', 'Honey', 'Dulce de Leche', 'Brioche and salami', 'Art Tray', 'Pick and Mix Bowls', 'Drinking chocolate spoons ', 'Smoothies', 'Extra Salami or Feta', 'Polenta', 'Crisps', 'Focaccia', 'Alfajores', 'Soup', 'Afternoon with the baker', 'Chicken sand', 'Truffles', 'Panatone', 'Argentina Night', 'Lemon and coconut', 'Crepes', 'Muffin', 'Pintxos', 'Coffee granules ', 'Gingerbread syrup', 'Cherry me Dried fruit', 'Farm House', 'Hearty & Seasonal', 'Tacos/Fajita', 'Medialuna', 'Bacon', 'Coffee', 'Vegan mincepie', 'Brownie', 'Frittata', 'Bakewell', 'Tiffin', 'Duck egg', 'Nomad bag', 'Chicken Stew', 'Mortimer', 'Mineral water', 'Raw bars', \"Valentine's card\", 'Postcard', 'Granola', 'Chocolates', 'Basket', 'Salad', 'The Nomad', 'Baguette', 'Cake', 'Fudge', 'Christmas common', 'Caramel bites', 'Cookies', 'Hot chocolate', 'Bread', 'Bare Popcorn', 'Coke', 'Fairy Doors', 'Chimichurri Oil', 'Keeping It Local', 'Sandwich', 'Juice', 'The BART', 'Pastry', 'My-5 Fruit Shoot', 'Gift voucher', 'Tea', 'Half slice Monster ', 'Jam', 'Tshirt', 'Kids biscuit', 'Scone', 'Jammie Dodgers', 'Spread', 'Eggs', 'Mighty Protein', 'Vegan Feast', 'Siblings'}\n",
            "\n",
            "Runtime in Apriori  : 2.64168643951416\n",
            "Runtime in FP_Growth: 0.13200807571411133\n",
            "\n",
            "Are the  generated frequent patterns same:  True\n",
            "Frequent Patterns by Apriori:\n",
            "(('Alfajores', 'Bread'), 98)\n",
            "(('Alfajores', 'Coffee'), 186)\n",
            "(('Alfajores', 'Tea'), 64)\n",
            "(('Bread', 'Brownie'), 102)\n",
            "(('Bread', 'Cake'), 221)\n",
            "(('Bread', 'Cake', 'Coffee'), 95)\n",
            "(('Bread', 'Coffee'), 852)\n",
            "(('Bread', 'Coffee', 'Cookies'), 50)\n",
            "(('Bread', 'Coffee', 'Hot chocolate'), 58)\n",
            "(('Bread', 'Coffee', 'Medialuna'), 64)\n",
            "(('Bread', 'Coffee', 'Pastry'), 106)\n",
            "(('Bread', 'Coffee', 'Sandwich'), 68)\n",
            "(('Bread', 'Coffee', 'Tea'), 70)\n",
            "(('Bread', 'Cookies'), 137)\n",
            "(('Bread', 'Hot chocolate'), 127)\n",
            "(('Bread', 'Juice'), 70)\n",
            "(('Bread', 'Medialuna'), 160)\n",
            "(('Bread', 'Muffin'), 77)\n",
            "(('Bread', 'Pastry'), 276)\n",
            "(('Bread', 'Sandwich'), 161)\n",
            "(('Bread', 'Scandinavian'), 62)\n",
            "(('Bread', 'Scone'), 86)\n",
            "(('Bread', 'Soup'), 62)\n",
            "(('Bread', 'Tea'), 266)\n",
            "(('Bread', 'Toast'), 74)\n",
            "(('Brownie', 'Coffee'), 186)\n",
            "(('Brownie', 'Tea'), 64)\n",
            "(('Cake', 'Coffee'), 518)\n",
            "(('Cake', 'Coffee', 'Hot chocolate'), 65)\n",
            "(('Cake', 'Coffee', 'Tea'), 95)\n",
            "(('Cake', 'Cookies'), 69)\n",
            "(('Cake', 'Hot chocolate'), 108)\n",
            "(('Cake', 'Juice'), 67)\n",
            "(('Cake', 'Sandwich'), 65)\n",
            "(('Cake', 'Tea'), 225)\n",
            "(('Coffee', 'Coke'), 61)\n",
            "(('Coffee', 'Cookies'), 267)\n",
            "(('Coffee', 'Farm House'), 63)\n",
            "(('Coffee', 'Hearty & Seasonal'), 54)\n",
            "(('Coffee', 'Hot chocolate'), 280)\n",
            "(('Coffee', 'Jammie Dodgers'), 63)\n",
            "(('Coffee', 'Juice'), 195)\n",
            "(('Coffee', 'Keeping It Local'), 51)\n",
            "(('Coffee', 'Medialuna'), 333)\n",
            "(('Coffee', 'Mineral water'), 53)\n",
            "(('Coffee', 'Muffin'), 178)\n",
            "(('Coffee', 'Pastry'), 450)\n",
            "(('Coffee', 'Salad'), 62)\n",
            "(('Coffee', 'Sandwich'), 362)\n",
            "(('Coffee', 'Sandwich', 'Tea'), 51)\n",
            "(('Coffee', 'Scone'), 171)\n",
            "(('Coffee', 'Soup'), 150)\n",
            "(('Coffee', 'Spanish Brunch'), 103)\n",
            "(('Coffee', 'Tea'), 472)\n",
            "(('Coffee', 'Tiffin'), 80)\n",
            "(('Coffee', 'Toast'), 224)\n",
            "(('Coffee', 'Truffles'), 71)\n",
            "(('Cookies', 'Hot chocolate'), 57)\n",
            "(('Cookies', 'Juice'), 58)\n",
            "(('Cookies', 'Tea'), 93)\n",
            "(('Hot chocolate', 'Pastry'), 54)\n",
            "(('Hot chocolate', 'Tea'), 76)\n",
            "(('Juice', 'Sandwich'), 55)\n",
            "(('Juice', 'Tea'), 68)\n",
            "(('Medialuna', 'Pastry'), 87)\n",
            "(('Medialuna', 'Tea'), 77)\n",
            "(('Muffin', 'Tea'), 62)\n",
            "(('Pastry', 'Tea'), 91)\n",
            "(('Sandwich', 'Soup'), 52)\n",
            "(('Sandwich', 'Tea'), 136)\n",
            "(('Scone', 'Tea'), 79)\n",
            "(('Soup', 'Tea'), 86)\n",
            "(('Tea', 'Toast'), 61)\n",
            "\n"
          ],
          "name": "stdout"
        }
      ]
    },
    {
      "cell_type": "code",
      "metadata": {
        "colab": {
          "base_uri": "https://localhost:8080/"
        },
        "id": "foZLEvqhpen3",
        "outputId": "bc32c13d-6b5f-45d8-9e6f-d9b64bf0b57f"
      },
      "source": [
        "################ Test on Market_Basket ######################\n",
        "ap = Apriori(market_transactions, min_sup=50)\n",
        "fp = FP_Growth(market_transactions,min_sup=50)\n",
        "\n",
        "fp.generateFrequentPatterns()\n",
        "ap.generateFrequentPatterns()\n",
        "\n",
        "print(\"Items in Apriori  : \", ap.uniqe_items)\n",
        "print(\"Items in FP_Growth: \", fp.uniqe_items)\n",
        "\n",
        "print(\"\")\n",
        "\n",
        "print(\"Runtime in Apriori  :\", ap.runTime)\n",
        "print(\"Runtime in FP_Growth:\", fp.runTime)\n",
        "\n",
        "print(\"\")\n",
        "print(\"Are the  generated frequent patterns same: \", ap.frequentPatterns==fp.frequentPatterns)\n",
        "\n",
        "print(\"Frequent Patterns by Apriori:\")\n",
        "for pat in ap.frequentPatterns:\n",
        "  print(pat)\n",
        "\n",
        "print(\"\")\n"
      ],
      "execution_count": 71,
      "outputs": [
        {
          "output_type": "stream",
          "text": [
            "Items in Apriori  :  {'nut snack', 'napkins', 'syrup', 'dental care', 'specialty cheese', 'popcorn', 'pasta', 'frankfurter', 'white wine', 'hygiene articles', 'specialty fat', 'baking powder', 'cleaner', 'processed cheese', 'hair spray', 'berries', 'abrasive cleaner', 'misc. beverages', 'skin care', 'chocolate', 'sauces', 'spices', 'fruit/vegetable juice', 'male cosmetics', 'rice', 'sugar', 'flower (seeds)', 'yogurt', 'baby cosmetics', 'oil', 'citrus fruit', 'cream cheese ', 'ham', 'sliced cheese', 'curd cheese', 'grapes', 'canned fruit', 'cream', 'salt', 'mustard', 'root vegetables', 'potato products', 'candles', 'soups', 'canned beer', 'cocoa drinks', 'cat food', 'chewing gum', 'salty snack', 'cake bar', 'female sanitary products', 'packaged fruit/vegetables', 'ready soups', 'soft cheese', 'curd', 'frozen chicken', 'jam', 'hard cheese', 'rum', 'cling film/bags', 'coffee', 'preservation products', 'pet care', 'specialty chocolate', 'mayonnaise', 'chicken', 'pot plants', 'pudding powder', 'herbs', 'liquor', 'make up remover', 'ice cream', 'spread cheese', 'rubbing alcohol', 'roll products ', 'UHT-milk', 'detergent', 'hamburger meat', 'semi-finished bread', 'instant coffee', 'candy', 'soap', 'liquor (appetizer)', 'pork', 'fish', 'chocolate marshmallow', 'sweet spreads', 'tidbits', 'cooking chocolate', 'bags', 'specialty vegetables', 'waffles', 'bottled beer', 'zwieback', 'bathroom cleaner', 'seasonal products', 'whole milk', 'dish cleaner', 'whipped/sour cream', 'frozen meals', 'shopping bags', 'frozen dessert', 'turkey', 'tea', 'specialty bar', 'red/blush wine', 'newspapers', 'kitchen towels', 'frozen fish', 'butter milk', 'sausage', 'house keeping products', 'flour', 'frozen potato products', 'organic sausage', 'flower soil/fertilizer', 'liver loaf', 'brown bread', 'dog food', 'organic products', 'pastry', 'honey', 'beverages', 'domestic eggs', 'Instant food products', 'artif. sweetener', 'whisky', 'dessert', 'salad dressing', 'onions', 'dishes', 'meat', 'snack products', 'softener', 'meat spreads', 'cereals', 'brandy', 'long life bakery product', 'canned fish', 'decalcifier', 'light bulbs', 'frozen fruits', 'soda', 'kitchen utensil', 'canned vegetables', 'frozen vegetables', 'beef', 'bottled water', 'pip fruit', 'cookware', 'sparkling wine', 'toilet cleaner', 'condensed milk', 'ketchup', 'finished products', 'rolls/buns', 'liqueur', 'margarine', 'pickled vegetables', 'photo/film', 'other vegetables', 'prosecco', 'butter', 'vinegar', 'tropical fruit', 'nuts/prunes', 'white bread'}\n",
            "Items in FP_Growth:  {'nut snack', 'napkins', 'syrup', 'dental care', 'specialty cheese', 'popcorn', 'pasta', 'frankfurter', 'white wine', 'hygiene articles', 'specialty fat', 'baking powder', 'cleaner', 'processed cheese', 'hair spray', 'berries', 'abrasive cleaner', 'misc. beverages', 'skin care', 'chocolate', 'sauces', 'spices', 'fruit/vegetable juice', 'male cosmetics', 'rice', 'sugar', 'flower (seeds)', 'yogurt', 'baby cosmetics', 'oil', 'citrus fruit', 'cream cheese ', 'ham', 'sliced cheese', 'curd cheese', 'grapes', 'canned fruit', 'cream', 'salt', 'mustard', 'root vegetables', 'potato products', 'candles', 'soups', 'canned beer', 'cocoa drinks', 'cat food', 'chewing gum', 'salty snack', 'cake bar', 'female sanitary products', 'packaged fruit/vegetables', 'ready soups', 'soft cheese', 'curd', 'frozen chicken', 'jam', 'hard cheese', 'rum', 'cling film/bags', 'coffee', 'preservation products', 'pet care', 'specialty chocolate', 'mayonnaise', 'chicken', 'pot plants', 'pudding powder', 'herbs', 'liquor', 'make up remover', 'ice cream', 'spread cheese', 'rubbing alcohol', 'roll products ', 'UHT-milk', 'detergent', 'hamburger meat', 'semi-finished bread', 'instant coffee', 'candy', 'soap', 'liquor (appetizer)', 'pork', 'fish', 'chocolate marshmallow', 'sweet spreads', 'tidbits', 'cooking chocolate', 'bags', 'specialty vegetables', 'waffles', 'bottled beer', 'zwieback', 'bathroom cleaner', 'seasonal products', 'whole milk', 'dish cleaner', 'whipped/sour cream', 'frozen meals', 'shopping bags', 'frozen dessert', 'turkey', 'tea', 'specialty bar', 'red/blush wine', 'newspapers', 'kitchen towels', 'frozen fish', 'butter milk', 'sausage', 'house keeping products', 'flour', 'frozen potato products', 'organic sausage', 'flower soil/fertilizer', 'liver loaf', 'brown bread', 'dog food', 'organic products', 'pastry', 'honey', 'beverages', 'domestic eggs', 'Instant food products', 'artif. sweetener', 'whisky', 'dessert', 'salad dressing', 'onions', 'dishes', 'meat', 'snack products', 'softener', 'meat spreads', 'cereals', 'brandy', 'long life bakery product', 'canned fish', 'decalcifier', 'light bulbs', 'frozen fruits', 'soda', 'kitchen utensil', 'canned vegetables', 'frozen vegetables', 'beef', 'bottled water', 'pip fruit', 'cookware', 'sparkling wine', 'toilet cleaner', 'condensed milk', 'ketchup', 'finished products', 'rolls/buns', 'liqueur', 'margarine', 'pickled vegetables', 'photo/film', 'other vegetables', 'prosecco', 'butter', 'vinegar', 'tropical fruit', 'nuts/prunes', 'white bread'}\n",
            "\n",
            "Runtime in Apriori  : 20.635072231292725\n",
            "Runtime in FP_Growth: 0.5169830322265625\n",
            "\n",
            "Are the  generated frequent patterns same:  True\n",
            "Frequent Patterns by Apriori:\n",
            "(('beef', 'whole milk'), 70)\n",
            "(('bottled beer', 'other vegetables'), 70)\n",
            "(('bottled beer', 'rolls/buns'), 60)\n",
            "(('bottled beer', 'sausage'), 50)\n",
            "(('bottled beer', 'whole milk'), 107)\n",
            "(('bottled beer', 'yogurt'), 51)\n",
            "(('bottled water', 'other vegetables'), 82)\n",
            "(('bottled water', 'rolls/buns'), 70)\n",
            "(('bottled water', 'root vegetables'), 52)\n",
            "(('bottled water', 'soda'), 72)\n",
            "(('bottled water', 'tropical fruit'), 53)\n",
            "(('bottled water', 'whole milk'), 107)\n",
            "(('bottled water', 'yogurt'), 57)\n",
            "(('brown bread', 'rolls/buns'), 50)\n",
            "(('brown bread', 'whole milk'), 67)\n",
            "(('butter', 'whole milk'), 70)\n",
            "(('canned beer', 'other vegetables'), 60)\n",
            "(('canned beer', 'rolls/buns'), 63)\n",
            "(('canned beer', 'whole milk'), 90)\n",
            "(('canned beer', 'yogurt'), 58)\n",
            "(('chicken', 'whole milk'), 51)\n",
            "(('citrus fruit', 'other vegetables'), 72)\n",
            "(('citrus fruit', 'rolls/buns'), 70)\n",
            "(('citrus fruit', 'soda'), 56)\n",
            "(('citrus fruit', 'whole milk'), 107)\n",
            "(('citrus fruit', 'yogurt'), 69)\n",
            "(('coffee', 'whole milk'), 57)\n",
            "(('curd', 'other vegetables'), 53)\n",
            "(('curd', 'whole milk'), 62)\n",
            "(('domestic eggs', 'other vegetables'), 53)\n",
            "(('domestic eggs', 'rolls/buns'), 51)\n",
            "(('domestic eggs', 'whole milk'), 79)\n",
            "(('frankfurter', 'other vegetables'), 77)\n",
            "(('frankfurter', 'rolls/buns'), 55)\n",
            "(('frankfurter', 'whole milk'), 79)\n",
            "(('frozen vegetables', 'whole milk'), 57)\n",
            "(('fruit/vegetable juice', 'rolls/buns'), 56)\n",
            "(('fruit/vegetable juice', 'whole milk'), 66)\n",
            "(('margarine', 'whole milk'), 61)\n",
            "(('newspapers', 'other vegetables'), 55)\n",
            "(('newspapers', 'whole milk'), 84)\n",
            "(('other vegetables', 'pastry'), 55)\n",
            "(('other vegetables', 'pip fruit'), 74)\n",
            "(('other vegetables', 'pork'), 59)\n",
            "(('other vegetables', 'rolls/buns'), 158)\n",
            "(('other vegetables', 'root vegetables'), 79)\n",
            "(('other vegetables', 'sausage'), 90)\n",
            "(('other vegetables', 'shopping bags'), 74)\n",
            "(('other vegetables', 'soda'), 145)\n",
            "(('other vegetables', 'tropical fruit'), 94)\n",
            "(('other vegetables', 'whipped/sour cream'), 62)\n",
            "(('other vegetables', 'whole milk'), 222)\n",
            "(('other vegetables', 'yogurt'), 121)\n",
            "(('pastry', 'rolls/buns'), 59)\n",
            "(('pastry', 'soda'), 61)\n",
            "(('pastry', 'whole milk'), 97)\n",
            "(('pastry', 'yogurt'), 54)\n",
            "(('pip fruit', 'rolls/buns'), 74)\n",
            "(('pip fruit', 'soda'), 59)\n",
            "(('pip fruit', 'whole milk'), 99)\n",
            "(('pip fruit', 'yogurt'), 54)\n",
            "(('pork', 'rolls/buns'), 51)\n",
            "(('pork', 'whole milk'), 75)\n",
            "(('rolls/buns', 'root vegetables'), 86)\n",
            "(('rolls/buns', 'sausage'), 80)\n",
            "(('rolls/buns', 'shopping bags'), 71)\n",
            "(('rolls/buns', 'soda'), 121)\n",
            "(('rolls/buns', 'tropical fruit'), 91)\n",
            "(('rolls/buns', 'whole milk'), 209)\n",
            "(('rolls/buns', 'yogurt'), 117)\n",
            "(('root vegetables', 'sausage'), 50)\n",
            "(('root vegetables', 'shopping bags'), 50)\n",
            "(('root vegetables', 'soda'), 79)\n",
            "(('root vegetables', 'tropical fruit'), 55)\n",
            "(('root vegetables', 'whole milk'), 113)\n",
            "(('root vegetables', 'yogurt'), 64)\n",
            "(('sausage', 'soda'), 89)\n",
            "(('sausage', 'whole milk'), 134)\n",
            "(('sausage', 'yogurt'), 86)\n",
            "(('shopping bags', 'soda'), 66)\n",
            "(('shopping bags', 'whole milk'), 95)\n",
            "(('shopping bags', 'yogurt'), 53)\n",
            "(('soda', 'tropical fruit'), 81)\n",
            "(('soda', 'whipped/sour cream'), 51)\n",
            "(('soda', 'whole milk'), 174)\n",
            "(('soda', 'yogurt'), 87)\n",
            "(('tropical fruit', 'whole milk'), 123)\n",
            "(('tropical fruit', 'yogurt'), 78)\n",
            "(('whipped/sour cream', 'whole milk'), 69)\n",
            "(('whole milk', 'yogurt'), 167)\n",
            "\n"
          ],
          "name": "stdout"
        }
      ]
    },
    {
      "cell_type": "code",
      "metadata": {
        "colab": {
          "base_uri": "https://localhost:8080/",
          "height": 295
        },
        "id": "-JoQCvD8-LMU",
        "outputId": "d3d4f218-2082-4794-9cf1-2e1dccb26699"
      },
      "source": [
        "############### Run Time analysis ###################\n",
        "\n",
        "## Bread Basket ##\n",
        "ap = Apriori(bread_transactions)\n",
        "fp = FP_Growth(bread_transactions)\n",
        "\n",
        "timeTakenApriori=[]\n",
        "timeTakenFPGrowth = []\n",
        "min_sup_axis = []\n",
        "\n",
        "for min_sup in range(20,200,20):\n",
        "  fp.min_sup = min_sup\n",
        "  ap.min_sup = min_sup\n",
        "  fp.generateFrequentPatterns()\n",
        "  ap.generateFrequentPatterns()\n",
        "  min_sup_axis.append(min_sup)\n",
        "  timeTakenFPGrowth.append(fp.runTime)\n",
        "  timeTakenApriori.append(ap.runTime)\n",
        "\n",
        "plt.plot(min_sup_axis,timeTakenApriori,'r-*', label = 'Apriori')\n",
        "plt.plot(min_sup_axis,timeTakenFPGrowth, 'b-*', label = 'FP Growth')\n",
        "plt.xlabel('Minimum Support Count')\n",
        "plt.ylabel(\"Time taken (s)\")\n",
        "plt.legend()\n",
        "plt.title('Running Time for Bread Basket')\n",
        "plt.show()\n"
      ],
      "execution_count": 72,
      "outputs": [
        {
          "output_type": "display_data",
          "data": {
            "image/png": "[encoded data removed]",
            "text/plain": [
              "<Figure size 432x288 with 1 Axes>"
            ]
          },
          "metadata": {
            "tags": [],
            "needs_background": "light"
          }
        }
      ]
    },
    {
      "cell_type": "code",
      "metadata": {
        "colab": {
          "base_uri": "https://localhost:8080/",
          "height": 295
        },
        "id": "_HjJ1NcHD0H-",
        "outputId": "b84858a3-2ecc-4e7a-f26f-da76bb564349"
      },
      "source": [
        "############### Run Time analysis ###################\n",
        "\n",
        "## Market Basket ##\n",
        "ap = Apriori(market_transactions)\n",
        "fp = FP_Growth(market_transactions)\n",
        "\n",
        "timeTakenApriori=[]\n",
        "timeTakenFPGrowth = []\n",
        "min_sup_axis = []\n",
        "\n",
        "for min_sup in range(25,200,25):\n",
        "  fp.min_sup = min_sup\n",
        "  ap.min_sup = min_sup\n",
        "  fp.generateFrequentPatterns()\n",
        "  ap.generateFrequentPatterns()\n",
        "  min_sup_axis.append(min_sup)\n",
        "  timeTakenFPGrowth.append(fp.runTime)\n",
        "  timeTakenApriori.append(ap.runTime)\n",
        "\n",
        "plt.plot(min_sup_axis,timeTakenApriori,'r-*', label = 'Apriori')\n",
        "plt.plot(min_sup_axis,timeTakenFPGrowth, 'b-*', label = 'FP Growth')\n",
        "plt.xlabel('Minimum Support Count')\n",
        "plt.ylabel(\"Time taken (s)\")\n",
        "plt.title('Running Time for Market Basket')\n",
        "plt.legend()\n",
        "plt.show()\n"
      ],
      "execution_count": 73,
      "outputs": [
        {
          "output_type": "display_data",
          "data": {
            "image/png": "[encoded data removed]",
            "text/plain": [
              "<Figure size 432x288 with 1 Axes>"
            ]
          },
          "metadata": {
            "tags": [],
            "needs_background": "light"
          }
        }
      ]
    }
  ]
}